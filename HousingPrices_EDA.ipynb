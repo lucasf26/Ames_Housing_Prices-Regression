{
 "cells": [
  {
   "cell_type": "markdown",
   "metadata": {},
   "source": [
    "##   Exploratory Data Analysis (EDA) - Ames Housing dataset"
   ]
  },
  {
   "cell_type": "markdown",
   "metadata": {},
   "source": [
    "\n",
    "Un EDA, o Análisis Exploratorio de Datos, es una fase crucial en cualquier proyecto de Machine Learning. En resumen, es el proceso de investigar y comprender los datos con los que trabajamos antes de aplicar cualquier modelo predictivo o algoritmo de machine learning.\n",
    "Este notebook contiene la estructura básica de un EDA aplicado al Ames Housing dataset."
   ]
  },
  {
   "cell_type": "markdown",
   "metadata": {},
   "source": [
    "El dataset **[Ames Housing dataset](https://www.kaggle.com/competitions/home-data-for-ml-course)** se obtuvo de Kaggle, de Prices Competition for Kaggle Learn Users. Dicho dataset consta de 79 variables que describen varios aspectos de las casas residenciales en Ames, Iowa."
   ]
  },
  {
   "cell_type": "markdown",
   "metadata": {},
   "source": [
    "### **Instrucciones**\n",
    " El objetivo que se plantea en el EDA es determinar las variables que podrían tener más relevancia en la futura predicción de la variable ```SalePrice``` (Precio en dólares de cada propiedad)."
   ]
  },
  {
   "cell_type": "markdown",
   "metadata": {},
   "source": [
    "#### 1. Familiarizate con los archivos dentro del directorio `dataset/`:\n",
    "\n",
    "¿Qué archivos usarás para el EDA?\n",
    "\n",
    "- \"train.csv\"-> es la base de datos que voy a usar para el EDA. Acá están todos los atributos, incluido el precio 'SalePrice'.\n",
    "- \"test.csv\" y \"sample_submission.csv\" -> acá están los datos para el testing, por lo que no deberían usarse para el EDA. En \"sample_submission.csv\" están los precios de los datos de testing.\n",
    "- \"data_description.txt\" -> tiene una descripcion de cada variable."
   ]
  },
  {
   "cell_type": "markdown",
   "metadata": {},
   "source": [
    "#### 2. Carga los archivos necesarios en dataframes utilizando la librería `pandas`\n",
    "Teniendo el dataframe (o los dataframes) con los datos cargados, utiliza funciones de la librería `pandas` para:\n",
    "- Visualizar las primeras filas del dataframe.\n",
    "- Obtener información del dataframe (utiliza la función `DataFrame.info()`).\n",
    "- Obtener una primera descripción estadística de las columnas numéricas."
   ]
  },
  {
   "cell_type": "code",
   "execution_count": 74,
   "metadata": {},
   "outputs": [
    {
     "name": "stdout",
     "output_type": "stream",
     "text": [
      "   Id  MSSubClass MSZoning  LotFrontage  LotArea Street Alley LotShape  \\\n",
      "0   1          60       RL         65.0     8450   Pave   NaN      Reg   \n",
      "1   2          20       RL         80.0     9600   Pave   NaN      Reg   \n",
      "2   3          60       RL         68.0    11250   Pave   NaN      IR1   \n",
      "3   4          70       RL         60.0     9550   Pave   NaN      IR1   \n",
      "4   5          60       RL         84.0    14260   Pave   NaN      IR1   \n",
      "\n",
      "  LandContour Utilities  ... PoolArea PoolQC Fence MiscFeature MiscVal MoSold  \\\n",
      "0         Lvl    AllPub  ...        0    NaN   NaN         NaN       0      2   \n",
      "1         Lvl    AllPub  ...        0    NaN   NaN         NaN       0      5   \n",
      "2         Lvl    AllPub  ...        0    NaN   NaN         NaN       0      9   \n",
      "3         Lvl    AllPub  ...        0    NaN   NaN         NaN       0      2   \n",
      "4         Lvl    AllPub  ...        0    NaN   NaN         NaN       0     12   \n",
      "\n",
      "  YrSold  SaleType  SaleCondition  SalePrice  \n",
      "0   2008        WD         Normal     208500  \n",
      "1   2007        WD         Normal     181500  \n",
      "2   2008        WD         Normal     223500  \n",
      "3   2006        WD        Abnorml     140000  \n",
      "4   2008        WD         Normal     250000  \n",
      "\n",
      "[5 rows x 81 columns]\n",
      "----------------\n",
      "-----INFO:------\n",
      "<class 'pandas.core.frame.DataFrame'>\n",
      "RangeIndex: 1460 entries, 0 to 1459\n",
      "Data columns (total 81 columns):\n",
      " #   Column         Non-Null Count  Dtype  \n",
      "---  ------         --------------  -----  \n",
      " 0   Id             1460 non-null   int64  \n",
      " 1   MSSubClass     1460 non-null   int64  \n",
      " 2   MSZoning       1460 non-null   object \n",
      " 3   LotFrontage    1201 non-null   float64\n",
      " 4   LotArea        1460 non-null   int64  \n",
      " 5   Street         1460 non-null   object \n",
      " 6   Alley          91 non-null     object \n",
      " 7   LotShape       1460 non-null   object \n",
      " 8   LandContour    1460 non-null   object \n",
      " 9   Utilities      1460 non-null   object \n",
      " 10  LotConfig      1460 non-null   object \n",
      " 11  LandSlope      1460 non-null   object \n",
      " 12  Neighborhood   1460 non-null   object \n",
      " 13  Condition1     1460 non-null   object \n",
      " 14  Condition2     1460 non-null   object \n",
      " 15  BldgType       1460 non-null   object \n",
      " 16  HouseStyle     1460 non-null   object \n",
      " 17  OverallQual    1460 non-null   int64  \n",
      " 18  OverallCond    1460 non-null   int64  \n",
      " 19  YearBuilt      1460 non-null   int64  \n",
      " 20  YearRemodAdd   1460 non-null   int64  \n",
      " 21  RoofStyle      1460 non-null   object \n",
      " 22  RoofMatl       1460 non-null   object \n",
      " 23  Exterior1st    1460 non-null   object \n",
      " 24  Exterior2nd    1460 non-null   object \n",
      " 25  MasVnrType     1452 non-null   object \n",
      " 26  MasVnrArea     1452 non-null   float64\n",
      " 27  ExterQual      1460 non-null   object \n",
      " 28  ExterCond      1460 non-null   object \n",
      " 29  Foundation     1460 non-null   object \n",
      " 30  BsmtQual       1423 non-null   object \n",
      " 31  BsmtCond       1423 non-null   object \n",
      " 32  BsmtExposure   1422 non-null   object \n",
      " 33  BsmtFinType1   1423 non-null   object \n",
      " 34  BsmtFinSF1     1460 non-null   int64  \n",
      " 35  BsmtFinType2   1422 non-null   object \n",
      " 36  BsmtFinSF2     1460 non-null   int64  \n",
      " 37  BsmtUnfSF      1460 non-null   int64  \n",
      " 38  TotalBsmtSF    1460 non-null   int64  \n",
      " 39  Heating        1460 non-null   object \n",
      " 40  HeatingQC      1460 non-null   object \n",
      " 41  CentralAir     1460 non-null   object \n",
      " 42  Electrical     1459 non-null   object \n",
      " 43  1stFlrSF       1460 non-null   int64  \n",
      " 44  2ndFlrSF       1460 non-null   int64  \n",
      " 45  LowQualFinSF   1460 non-null   int64  \n",
      " 46  GrLivArea      1460 non-null   int64  \n",
      " 47  BsmtFullBath   1460 non-null   int64  \n",
      " 48  BsmtHalfBath   1460 non-null   int64  \n",
      " 49  FullBath       1460 non-null   int64  \n",
      " 50  HalfBath       1460 non-null   int64  \n",
      " 51  BedroomAbvGr   1460 non-null   int64  \n",
      " 52  KitchenAbvGr   1460 non-null   int64  \n",
      " 53  KitchenQual    1460 non-null   object \n",
      " 54  TotRmsAbvGrd   1460 non-null   int64  \n",
      " 55  Functional     1460 non-null   object \n",
      " 56  Fireplaces     1460 non-null   int64  \n",
      " 57  FireplaceQu    770 non-null    object \n",
      " 58  GarageType     1379 non-null   object \n",
      " 59  GarageYrBlt    1379 non-null   float64\n",
      " 60  GarageFinish   1379 non-null   object \n",
      " 61  GarageCars     1460 non-null   int64  \n",
      " 62  GarageArea     1460 non-null   int64  \n",
      " 63  GarageQual     1379 non-null   object \n",
      " 64  GarageCond     1379 non-null   object \n",
      " 65  PavedDrive     1460 non-null   object \n",
      " 66  WoodDeckSF     1460 non-null   int64  \n",
      " 67  OpenPorchSF    1460 non-null   int64  \n",
      " 68  EnclosedPorch  1460 non-null   int64  \n",
      " 69  3SsnPorch      1460 non-null   int64  \n",
      " 70  ScreenPorch    1460 non-null   int64  \n",
      " 71  PoolArea       1460 non-null   int64  \n",
      " 72  PoolQC         7 non-null      object \n",
      " 73  Fence          281 non-null    object \n",
      " 74  MiscFeature    54 non-null     object \n",
      " 75  MiscVal        1460 non-null   int64  \n",
      " 76  MoSold         1460 non-null   int64  \n",
      " 77  YrSold         1460 non-null   int64  \n",
      " 78  SaleType       1460 non-null   object \n",
      " 79  SaleCondition  1460 non-null   object \n",
      " 80  SalePrice      1460 non-null   int64  \n",
      "dtypes: float64(3), int64(35), object(43)\n",
      "memory usage: 924.0+ KB\n",
      "None\n",
      "----------------\n",
      "-----STATS:-----\n",
      "        MSSubClass  LotFrontage        LotArea  OverallQual  OverallCond  \\\n",
      "count  1460.000000  1201.000000    1460.000000  1460.000000  1460.000000   \n",
      "mean     56.897260    70.049958   10516.828082     6.099315     5.575342   \n",
      "std      42.300571    24.284752    9981.264932     1.382997     1.112799   \n",
      "min      20.000000    21.000000    1300.000000     1.000000     1.000000   \n",
      "25%      20.000000    59.000000    7553.500000     5.000000     5.000000   \n",
      "50%      50.000000    69.000000    9478.500000     6.000000     5.000000   \n",
      "75%      70.000000    80.000000   11601.500000     7.000000     6.000000   \n",
      "max     190.000000   313.000000  215245.000000    10.000000     9.000000   \n",
      "\n",
      "         YearBuilt  YearRemodAdd   MasVnrArea   BsmtFinSF1   BsmtFinSF2  ...  \\\n",
      "count  1460.000000   1460.000000  1452.000000  1460.000000  1460.000000  ...   \n",
      "mean   1971.267808   1984.865753   103.685262   443.639726    46.549315  ...   \n",
      "std      30.202904     20.645407   181.066207   456.098091   161.319273  ...   \n",
      "min    1872.000000   1950.000000     0.000000     0.000000     0.000000  ...   \n",
      "25%    1954.000000   1967.000000     0.000000     0.000000     0.000000  ...   \n",
      "50%    1973.000000   1994.000000     0.000000   383.500000     0.000000  ...   \n",
      "75%    2000.000000   2004.000000   166.000000   712.250000     0.000000  ...   \n",
      "max    2010.000000   2010.000000  1600.000000  5644.000000  1474.000000  ...   \n",
      "\n",
      "        WoodDeckSF  OpenPorchSF  EnclosedPorch    3SsnPorch  ScreenPorch  \\\n",
      "count  1460.000000  1460.000000    1460.000000  1460.000000  1460.000000   \n",
      "mean     94.244521    46.660274      21.954110     3.409589    15.060959   \n",
      "std     125.338794    66.256028      61.119149    29.317331    55.757415   \n",
      "min       0.000000     0.000000       0.000000     0.000000     0.000000   \n",
      "25%       0.000000     0.000000       0.000000     0.000000     0.000000   \n",
      "50%       0.000000    25.000000       0.000000     0.000000     0.000000   \n",
      "75%     168.000000    68.000000       0.000000     0.000000     0.000000   \n",
      "max     857.000000   547.000000     552.000000   508.000000   480.000000   \n",
      "\n",
      "          PoolArea       MiscVal       MoSold       YrSold      SalePrice  \n",
      "count  1460.000000   1460.000000  1460.000000  1460.000000    1460.000000  \n",
      "mean      2.758904     43.489041     6.321918  2007.815753  180921.195890  \n",
      "std      40.177307    496.123024     2.703626     1.328095   79442.502883  \n",
      "min       0.000000      0.000000     1.000000  2006.000000   34900.000000  \n",
      "25%       0.000000      0.000000     5.000000  2007.000000  129975.000000  \n",
      "50%       0.000000      0.000000     6.000000  2008.000000  163000.000000  \n",
      "75%       0.000000      0.000000     8.000000  2009.000000  214000.000000  \n",
      "max     738.000000  15500.000000    12.000000  2010.000000  755000.000000  \n",
      "\n",
      "[8 rows x 37 columns]\n"
     ]
    }
   ],
   "source": [
    "import pandas as pd\n",
    "\n",
    "## Información del archivo \"train.csv\"\n",
    "df_train=pd.read_csv('dataset/train.csv')\n",
    "print(df_train.head())\n",
    "print('----------------')\n",
    "print('-----INFO:------')\n",
    "print(df_train.info())\n",
    "print('----------------')\n",
    "print('-----STATS:-----')\n",
    "print(df_train.iloc[:,1:].describe())"
   ]
  },
  {
   "cell_type": "markdown",
   "metadata": {},
   "source": [
    "\"train.csv\" tiene 80 columnas, de distintos dtype, numericos (enteros y flotantes) y strings.\n",
    "Primer columna es el ID (dtype: entero) y el resto son atributos."
   ]
  },
  {
   "cell_type": "markdown",
   "metadata": {},
   "source": [
    "#### 3. Limpia el (los) DataFrame(s) de valores nulos.\n",
    "Pero para eso, antes debes:\n",
    "##### 3.1 Contar los valores nulos por columna e imprimir de mayor a menor ese listado.\n"
   ]
  },
  {
   "cell_type": "code",
   "execution_count": 75,
   "metadata": {},
   "outputs": [
    {
     "name": "stdout",
     "output_type": "stream",
     "text": [
      "PoolQC          1453\n",
      "MiscFeature     1406\n",
      "Alley           1369\n",
      "Fence           1179\n",
      "FireplaceQu      690\n",
      "LotFrontage      259\n",
      "GarageCond        81\n",
      "GarageType        81\n",
      "GarageYrBlt       81\n",
      "GarageFinish      81\n",
      "GarageQual        81\n",
      "BsmtExposure      38\n",
      "BsmtFinType2      38\n",
      "BsmtFinType1      37\n",
      "BsmtCond          37\n",
      "BsmtQual          37\n",
      "MasVnrArea         8\n",
      "MasVnrType         8\n",
      "Electrical         1\n",
      "Utilities          0\n",
      "dtype: int64\n"
     ]
    }
   ],
   "source": [
    "print(df_train.isnull().sum().sort_values(ascending=False).iloc[0:20])"
   ]
  },
  {
   "cell_type": "markdown",
   "metadata": {},
   "source": [
    "##### 3.2 Verificar si hay valores nulos en la columna target `SalePrice`."
   ]
  },
  {
   "cell_type": "code",
   "execution_count": 76,
   "metadata": {},
   "outputs": [
    {
     "name": "stdout",
     "output_type": "stream",
     "text": [
      "0\n"
     ]
    }
   ],
   "source": [
    "print(df_train.isnull().sum()['SalePrice']) # cantidad de valores nulos en la columna \"SalePrice\""
   ]
  },
  {
   "cell_type": "markdown",
   "metadata": {},
   "source": [
    "SalePrice no tiene valores nulos."
   ]
  },
  {
   "cell_type": "markdown",
   "metadata": {},
   "source": [
    "##### 3.3 En base a estos resultados responde las siguientes preguntas:\n",
    "- 3.3.1 ¿Eliminarías columnas? En caso afirmativo: ¿Cuáles y por qué?\n",
    "\n",
    "Eliminaría las columnas que tienen muchos valores nulos (las primeras 5 columnas listadas en 3.1), ya que les falta mucha información.\n",
    "\n",
    "- 3.3.2 ¿Qué harías con las variables numéricas que no tienen tantos valores nulos?\n",
    "\n",
    "Las dejaría para hacer el EDA, ya que se puede extraer información útil. Los valores nulos se pueden reemplazar por el valor medio de la variable, para variables reales, y para variables enteras por el entero más cercano.\n",
    "\n",
    "- 3.3.3 ¿Qué harías con las variables categóricas que no tienen tantos datos faltantes?\n",
    "\n",
    "Se podrían reemplazar por el valor de la variable con mayor frecuencia."
   ]
  },
  {
   "cell_type": "markdown",
   "metadata": {},
   "source": [
    "#### 4. Realiza la limpieza de datos\n",
    "Limpia el `DataFrame` de la manera que consideres pertinente."
   ]
  },
  {
   "cell_type": "code",
   "execution_count": 77,
   "metadata": {},
   "outputs": [
    {
     "name": "stdout",
     "output_type": "stream",
     "text": [
      "LotFrontage     259\n",
      "GarageFinish     81\n",
      "GarageType       81\n",
      "GarageCond       81\n",
      "GarageQual       81\n",
      "GarageYrBlt      81\n",
      "BsmtExposure     38\n",
      "BsmtFinType2     38\n",
      "BsmtFinType1     37\n",
      "BsmtCond         37\n",
      "BsmtQual         37\n",
      "MasVnrType        8\n",
      "MasVnrArea        8\n",
      "Electrical        1\n",
      "RoofStyle         0\n",
      "dtype: int64\n"
     ]
    }
   ],
   "source": [
    "# se eliminan las columnas con muchos valores nulos\n",
    "df_train=df_train.drop(columns=['PoolQC','MiscFeature','Alley','Fence','FireplaceQu'])\n",
    "print(df_train.isnull().sum().sort_values(ascending=False).iloc[0:15])"
   ]
  },
  {
   "cell_type": "markdown",
   "metadata": {},
   "source": [
    "se mantuvo la variable 'LotFrontage' (longitud frontal de la propiedad) porque se presume que puede estar correlacionada con SalePrice. "
   ]
  },
  {
   "cell_type": "code",
   "execution_count": 78,
   "metadata": {},
   "outputs": [
    {
     "data": {
      "text/plain": [
       "array([dtype('int64'), dtype('O'), dtype('float64')], dtype=object)"
      ]
     },
     "execution_count": 78,
     "metadata": {},
     "output_type": "execute_result"
    }
   ],
   "source": [
    "df_train.dtypes.unique() #tipos de variables en df_test"
   ]
  },
  {
   "cell_type": "code",
   "execution_count": 79,
   "metadata": {},
   "outputs": [
    {
     "name": "stdout",
     "output_type": "stream",
     "text": [
      "# columnas int64 con NaN =   0\n",
      "# columnas float64 con NaN = 3\n",
      "# columnas str con NaN =     11\n"
     ]
    }
   ],
   "source": [
    "# se cuentan la cantidad de columnas donde hay valores nulos, por tipo de variable \n",
    "\n",
    "print('# columnas int64 con NaN =  ',(df_train.select_dtypes(include = 'int64').isnull().sum() > 0).sum())\n",
    "print('# columnas float64 con NaN =',(df_train.select_dtypes(include = 'float64').isnull().sum() > 0).sum())\n",
    "print('# columnas str con NaN =    ',(df_train.select_dtypes(include = 'O').isnull().sum() > 0).sum())"
   ]
  },
  {
   "cell_type": "code",
   "execution_count": 80,
   "metadata": {},
   "outputs": [
    {
     "name": "stdout",
     "output_type": "stream",
     "text": [
      "# columnas float64 con NaN =  0\n"
     ]
    }
   ],
   "source": [
    "# para variables reales, se reemplazan los valores nulos por el valor medio de la variable.\n",
    "Ctrain_flo=df_train.select_dtypes(include = 'float64').columns\n",
    "df_train[Ctrain_flo]=df_train[Ctrain_flo].fillna(df_train[Ctrain_flo].mean())\n",
    "print('# columnas float64 con NaN = ',(df_train[Ctrain_flo].isnull().sum() > 0).sum()) # chequeo"
   ]
  },
  {
   "cell_type": "code",
   "execution_count": 81,
   "metadata": {},
   "outputs": [
    {
     "name": "stdout",
     "output_type": "stream",
     "text": [
      "# columnas str con NaN =  0\n"
     ]
    }
   ],
   "source": [
    "# para variables string, se reemplazan los valores nulos por el valor más frecuente de la variable.\n",
    "Ctrain_str=df_train.select_dtypes(include = 'O').columns\n",
    "for i in Ctrain_str:\n",
    "    VMF=df_train[i].value_counts(ascending=False).iloc[0] #Valor mas frecuente\n",
    "    df_train[i]=df_train[i].fillna(VMF)\n",
    "print('# columnas str con NaN = ',(df_train[Ctest_str].isnull().sum() > 0).sum()) # chequeo"
   ]
  },
  {
   "cell_type": "markdown",
   "metadata": {},
   "source": [
    "#### 5. Realiza un unálisis univariable para el target `SalePrice`\n",
    "\n",
    "##### 5.1 Visualiza la distribución de `SalePrice` usando histogramas o gráficos KDE (Kernel Density Estimation)."
   ]
  },
  {
   "cell_type": "code",
   "execution_count": 82,
   "metadata": {},
   "outputs": [
    {
     "data": {
      "image/png": "[encoded data removed]",
      "text/plain": [
       "<Figure size 432x288 with 1 Axes>"
      ]
     },
     "metadata": {
      "needs_background": "light"
     },
     "output_type": "display_data"
    }
   ],
   "source": [
    "import matplotlib.pyplot as plt\n",
    "import seaborn as sns\n",
    "\n",
    "plt.hist(df_train['SalePrice'], bins=15, histtype='bar', orientation='vertical')\n",
    "plt.xlabel('SalePrice')\n",
    "plt.ylabel('Frecuencia')\n",
    "plt.show()"
   ]
  },
  {
   "cell_type": "markdown",
   "metadata": {},
   "source": [
    "##### 5.2 Revisa medidas estadísticas como media, mediana, rango intercuartil, etc."
   ]
  },
  {
   "cell_type": "code",
   "execution_count": 83,
   "metadata": {},
   "outputs": [
    {
     "data": {
      "text/plain": [
       "count      1460.000000\n",
       "mean     180921.195890\n",
       "std       79442.502883\n",
       "min       34900.000000\n",
       "25%      129975.000000\n",
       "50%      163000.000000\n",
       "75%      214000.000000\n",
       "max      755000.000000\n",
       "Name: SalePrice, dtype: float64"
      ]
     },
     "execution_count": 83,
     "metadata": {},
     "output_type": "execute_result"
    }
   ],
   "source": [
    "df_train['SalePrice'].describe()"
   ]
  },
  {
   "cell_type": "code",
   "execution_count": 84,
   "metadata": {},
   "outputs": [
    {
     "name": "stdout",
     "output_type": "stream",
     "text": [
      "mediana =  163000.0\n"
     ]
    }
   ],
   "source": [
    "print('mediana = ',df_train['SalePrice'].median())"
   ]
  },
  {
   "cell_type": "markdown",
   "metadata": {},
   "source": [
    "#### 6. Realiza un análisis multivariable\n"
   ]
  },
  {
   "cell_type": "markdown",
   "metadata": {},
   "source": [
    "##### 6.1 Correlaciones: Calcula y visualiza la \"matriz\" de correlación para identificar relaciones entre `SalePrice` y otras variables numéricas.\n",
    "\n",
    "Ayuda: Puedes seleccionar un solo `dtype` en un `DataFrame` como en el siguiente ejemplo:\n",
    "```numerical_columns = data.select_dtypes(include=[np.number])```\n",
    "\n",
    "En donde las columnas con valor numérico serán aquellas que contengan un `numpy number`."
   ]
  },
  {
   "cell_type": "code",
   "execution_count": 190,
   "metadata": {},
   "outputs": [
    {
     "name": "stdout",
     "output_type": "stream",
     "text": [
      "Var vs SalePrice \n",
      "           VarName                 CorrCoef\n",
      "37      SalePrice                    [1.0]\n",
      "4     OverallQual     [0.7909816005838047]\n",
      "16      GrLivArea     [0.7086244776126522]\n",
      "26     GarageCars     [0.6404091972583531]\n",
      "27     GarageArea     [0.6234314389183616]\n",
      "12    TotalBsmtSF     [0.6135805515591954]\n",
      "13       1stFlrSF     [0.6058521846919146]\n",
      "19       FullBath     [0.5606637627484456]\n",
      "23   TotRmsAbvGrd     [0.5337231555820282]\n",
      "6       YearBuilt     [0.5228973328794968]\n",
      "7    YearRemodAdd     [0.5071009671113864]\n",
      "8      MasVnrArea     [0.4752413167736681]\n",
      "25    GarageYrBlt     [0.4701774537404797]\n",
      "24     Fireplaces     [0.4669288367515278]\n",
      "9      BsmtFinSF1    [0.38641980624215316]\n",
      "2     LotFrontage    [0.33490085154055105]\n",
      "28     WoodDeckSF     [0.3244134445681294]\n",
      "14       2ndFlrSF    [0.31933380283206764]\n",
      "29    OpenPorchSF    [0.31585622711605543]\n",
      "20       HalfBath     [0.2841076755947829]\n",
      "3         LotArea    [0.26384335387140573]\n",
      "17   BsmtFullBath    [0.22712223313149404]\n",
      "11      BsmtUnfSF    [0.21447910554696892]\n",
      "21   BedroomAbvGr       [0.16821315430074]\n",
      "32    ScreenPorch     [0.1114465711429111]\n",
      "33       PoolArea    [0.09240354949187314]\n",
      "35         MoSold   [0.046432245223819384]\n",
      "31      3SsnPorch    [0.04458366533574845]\n",
      "10     BsmtFinSF2   [-0.01137812145021513]\n",
      "18   BsmtHalfBath   [-0.01684415429735901]\n",
      "34        MiscVal   [-0.02118957964030326]\n",
      "0              Id  [-0.021916719443431106]\n",
      "15   LowQualFinSF   [-0.02560613000067958]\n",
      "36         YrSold  [-0.028922585168730336]\n",
      "5     OverallCond   [-0.07785589404867801]\n",
      "1      MSSubClass   [-0.08428413512659526]\n",
      "30  EnclosedPorch    [-0.1285779579259565]\n",
      "22   KitchenAbvGr    [-0.1359073708421411]\n"
     ]
    }
   ],
   "source": [
    "import numpy as np\n",
    "\n",
    "numerical_columns = df_train.select_dtypes(include=[np.number])\n",
    "#print(numerical_columns.columns)\n",
    "MC = np.corrcoef (numerical_columns.T)[:,-1:]\n",
    "MCp=pd.DataFrame(zip(numerical_columns.columns,MC),columns=['VarName','CorrCoef'])\n",
    "print('Var vs SalePrice \\n',MCp.sort_values(\"CorrCoef\" ,ascending=False))\n"
   ]
  },
  {
   "cell_type": "markdown",
   "metadata": {},
   "source": [
    "Responde: \n",
    "\n",
    "6.1.1 ¿Cuáles son las 4 variables numéricas que tienen mayor correlación (positiva o negativa) con la variable target `SalePrice`? "
   ]
  },
  {
   "cell_type": "markdown",
   "metadata": {},
   "source": [
    "Las variables \"OverallQual\", \"GrLivArea\", \"GarageCars\" y \"GarageArea\". El CorrCoef > 0.6."
   ]
  },
  {
   "cell_type": "markdown",
   "metadata": {},
   "source": [
    "##### 6.2 Muestra una visualización de la dependencia de `SalePrice` respecto a cada una de las variables numéricas seleccionadas anteriormente."
   ]
  },
  {
   "cell_type": "code",
   "execution_count": 188,
   "metadata": {},
   "outputs": [
    {
     "data": {
      "image/png": "[encoded data removed]",
      "text/plain": [
       "<Figure size 432x288 with 1 Axes>"
      ]
     },
     "metadata": {
      "needs_background": "light"
     },
     "output_type": "display_data"
    },
    {
     "data": {
      "image/png": "[encoded data removed]",
      "text/plain": [
       "<Figure size 432x288 with 1 Axes>"
      ]
     },
     "metadata": {
      "needs_background": "light"
     },
     "output_type": "display_data"
    },
    {
     "data": {
      "image/png": "[encoded data removed]",
      "text/plain": [
       "<Figure size 432x288 with 1 Axes>"
      ]
     },
     "metadata": {
      "needs_background": "light"
     },
     "output_type": "display_data"
    },
    {
     "data": {
      "image/png": "[encoded data removed]",
      "text/plain": [
       "<Figure size 432x288 with 1 Axes>"
      ]
     },
     "metadata": {
      "needs_background": "light"
     },
     "output_type": "display_data"
    }
   ],
   "source": [
    "plt.scatter(df_train['OverallQual'],df_train['SalePrice'])\n",
    "plt.ylabel('SalePrice')\n",
    "plt.xlabel('OverallQual')\n",
    "plt.show()\n",
    "\n",
    "plt.scatter(df_train['GrLivArea'],df_train['SalePrice'])\n",
    "plt.ylabel('SalePrice')\n",
    "plt.xlabel('GrLivArea')\n",
    "plt.show()\n",
    "\n",
    "plt.scatter(df_train['GarageCars'],df_train['SalePrice'])\n",
    "plt.ylabel('SalePrice')\n",
    "plt.xlabel('GarageCars')\n",
    "plt.show()\n",
    "\n",
    "plt.scatter(df_train['GarageArea'],df_train['SalePrice'])\n",
    "plt.ylabel('SalePrice')\n",
    "plt.xlabel('GarageArea')\n",
    "plt.show()\n"
   ]
  },
  {
   "cell_type": "markdown",
   "metadata": {},
   "source": [
    "##### 6.3 Visualizaciones respecto a variables Categóricas\n",
    "\n",
    "Genera visualizaciones entre la variable target `SalePrice` y las variables categóricas que consideres necesarias. "
   ]
  },
  {
   "cell_type": "code",
   "execution_count": 189,
   "metadata": {},
   "outputs": [
    {
     "name": "stdout",
     "output_type": "stream",
     "text": [
      "Index(['MSZoning', 'Street', 'LotShape', 'LandContour', 'Utilities',\n",
      "       'LotConfig', 'LandSlope', 'Neighborhood', 'Condition1', 'Condition2',\n",
      "       'BldgType', 'HouseStyle', 'RoofStyle', 'RoofMatl', 'Exterior1st',\n",
      "       'Exterior2nd', 'MasVnrType', 'ExterQual', 'ExterCond', 'Foundation',\n",
      "       'BsmtQual', 'BsmtCond', 'BsmtExposure', 'BsmtFinType1', 'BsmtFinType2',\n",
      "       'Heating', 'HeatingQC', 'CentralAir', 'Electrical', 'KitchenQual',\n",
      "       'Functional', 'GarageType', 'GarageFinish', 'GarageQual', 'GarageCond',\n",
      "       'PavedDrive', 'SaleType', 'SaleCondition'],\n",
      "      dtype='object')\n"
     ]
    }
   ],
   "source": [
    "print(df_train.select_dtypes(include = 'O').columns)"
   ]
  },
  {
   "cell_type": "markdown",
   "metadata": {},
   "source": [
    "Voy a graficar las variables categóricas que supongo que pueden tener alta correlación con el precio: 'OverallCond', 'Street', 'Utilities', 'Foundation' y 'Funtional'."
   ]
  },
  {
   "cell_type": "code",
   "execution_count": 209,
   "metadata": {},
   "outputs": [
    {
     "data": {
      "text/plain": [
       "<AxesSubplot:xlabel='OverallCond', ylabel='SalePrice'>"
      ]
     },
     "execution_count": 209,
     "metadata": {},
     "output_type": "execute_result"
    },
    {
     "data": {
      "image/png": "[encoded data removed]",
      "text/plain": [
       "<Figure size 432x288 with 1 Axes>"
      ]
     },
     "metadata": {},
     "output_type": "display_data"
    }
   ],
   "source": [
    "import seaborn as sns\n",
    "\n",
    "sns.set_style('whitegrid')\n",
    "sns.boxplot(data=df_train,x='OverallCond',y='SalePrice')"
   ]
  },
  {
   "cell_type": "code",
   "execution_count": 210,
   "metadata": {},
   "outputs": [
    {
     "data": {
      "text/plain": [
       "<AxesSubplot:xlabel='Street', ylabel='SalePrice'>"
      ]
     },
     "execution_count": 210,
     "metadata": {},
     "output_type": "execute_result"
    },
    {
     "data": {
      "image/png": "[encoded data removed]",
      "text/plain": [
       "<Figure size 432x288 with 1 Axes>"
      ]
     },
     "metadata": {},
     "output_type": "display_data"
    }
   ],
   "source": [
    "sns.set_style('whitegrid')\n",
    "sns.boxplot(data=df_train,x='Street',y='SalePrice')"
   ]
  },
  {
   "cell_type": "code",
   "execution_count": 211,
   "metadata": {},
   "outputs": [
    {
     "data": {
      "text/plain": [
       "<AxesSubplot:xlabel='Utilities', ylabel='SalePrice'>"
      ]
     },
     "execution_count": 211,
     "metadata": {},
     "output_type": "execute_result"
    },
    {
     "data": {
      "image/png": "[encoded data removed]",
      "text/plain": [
       "<Figure size 432x288 with 1 Axes>"
      ]
     },
     "metadata": {},
     "output_type": "display_data"
    }
   ],
   "source": [
    "sns.set_style('whitegrid')\n",
    "sns.boxplot(data=df_train,x='Utilities',y='SalePrice')"
   ]
  },
  {
   "cell_type": "code",
   "execution_count": 214,
   "metadata": {},
   "outputs": [
    {
     "data": {
      "text/plain": [
       "<AxesSubplot:xlabel='Foundation', ylabel='SalePrice'>"
      ]
     },
     "execution_count": 214,
     "metadata": {},
     "output_type": "execute_result"
    },
    {
     "data": {
      "image/png": "[encoded data removed]",
      "text/plain": [
       "<Figure size 432x288 with 1 Axes>"
      ]
     },
     "metadata": {},
     "output_type": "display_data"
    }
   ],
   "source": [
    "sns.set_style('whitegrid')\n",
    "sns.boxplot(data=df_train,x='Foundation',y='SalePrice')"
   ]
  },
  {
   "cell_type": "code",
   "execution_count": 213,
   "metadata": {},
   "outputs": [
    {
     "data": {
      "text/plain": [
       "<AxesSubplot:xlabel='Functional', ylabel='SalePrice'>"
      ]
     },
     "execution_count": 213,
     "metadata": {},
     "output_type": "execute_result"
    },
    {
     "data": {
      "image/png": "[encoded data removed]",
      "text/plain": [
       "<Figure size 432x288 with 1 Axes>"
      ]
     },
     "metadata": {},
     "output_type": "display_data"
    }
   ],
   "source": [
    "sns.set_style('whitegrid')\n",
    "sns.boxplot(data=df_train,x='Functional',y='SalePrice')"
   ]
  },
  {
   "cell_type": "markdown",
   "metadata": {},
   "source": [
    "La variable 'OverallCondition' pareciera estar fuertemente correlacionada con .SalePrice'."
   ]
  },
  {
   "cell_type": "markdown",
   "metadata": {},
   "source": [
    "#### 6.4 Conclusiones:\n",
    "- ¿Qué puedes concluir de este EDA preliminar?\n",
    "- Se puede concluir que las variables de mayor correlación son: \"OverallQual\", \"GrLivArea\", \"GarageCars\", \"GarageArea\" y 'OverallCondition'.\n",
    "\n",
    "- ¿Qué variables pueden resultar útiles para la futura implementación de un modelo predictivo para la variable `SalePrice`?\n",
    "- Las variables anteriormente mencionadas.\n",
    "\n",
    "- ¿Qué variables podrían no resultar útiles?\n",
    "- Las variables que poseen un coeficiente de correlación cercano a cero."
   ]
  }
 ],
 "metadata": {
  "kernelspec": {
   "display_name": "ML",
   "language": "python",
   "name": "ml"
  },
  "language_info": {
   "codemirror_mode": {
    "name": "ipython",
    "version": 3
   },
   "file_extension": ".py",
   "mimetype": "text/x-python",
   "name": "python",
   "nbconvert_exporter": "python",
   "pygments_lexer": "ipython3",
   "version": "3.9.7"
  }
 },
 "nbformat": 4,
 "nbformat_minor": 4
}
